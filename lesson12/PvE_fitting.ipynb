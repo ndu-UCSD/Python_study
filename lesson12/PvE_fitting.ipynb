{
 "cells": [
  {
   "cell_type": "code",
   "execution_count": 22,
   "metadata": {
    "collapsed": true
   },
   "outputs": [],
   "source": [
    "import os\n",
    "from scipy.optimize import least_squares"
   ]
  },
  {
   "cell_type": "code",
   "execution_count": 2,
   "metadata": {
    "collapsed": true
   },
   "outputs": [],
   "source": [
    "os.chdir('/Users/niudu/Google Drive/LHCX_DB/Results/2017_01_18-11_08_16')"
   ]
  },
  {
   "cell_type": "code",
   "execution_count": 4,
   "metadata": {
    "collapsed": true
   },
   "outputs": [],
   "source": [
    "import pickle"
   ]
  },
  {
   "cell_type": "code",
   "execution_count": 6,
   "metadata": {
    "collapsed": false
   },
   "outputs": [],
   "source": [
    "pickle_file = open('inquery_results.pkl','rb')\n",
    "with pickle_file:\n",
    "    results = pickle.load(pickle_file)"
   ]
  },
  {
   "cell_type": "code",
   "execution_count": 14,
   "metadata": {
    "collapsed": false
   },
   "outputs": [],
   "source": [
    "import pandas as pd\n",
    "import matplotlib.pyplot as plt \n",
    "%matplotlib inline"
   ]
  },
  {
   "cell_type": "code",
   "execution_count": 16,
   "metadata": {
    "collapsed": false
   },
   "outputs": [
    {
     "data": {
      "text/plain": [
       "[<matplotlib.lines.Line2D at 0x11856bd30>]"
      ]
     },
     "execution_count": 16,
     "metadata": {},
     "output_type": "execute_result"
    },
    {
     "data": {
      "image/png": "[encoded data removed]",
      "text/plain": [
       "<matplotlib.figure.Figure at 0x117f8c6a0>"
      ]
     },
     "metadata": {},
     "output_type": "display_data"
    }
   ],
   "source": [
    "plt.plot(results.Light_level,results.Oxygen_evolution,'.')"
   ]
  },
  {
   "cell_type": "code",
   "execution_count": 18,
   "metadata": {
    "collapsed": false
   },
   "outputs": [
    {
     "data": {
      "text/html": [
       "<div>\n",
       "<table border=\"1\" class=\"dataframe\">\n",
       "  <thead>\n",
       "    <tr style=\"text-align: right;\">\n",
       "      <th></th>\n",
       "      <th></th>\n",
       "      <th>Light_level</th>\n",
       "      <th>Oxygen_evolution</th>\n",
       "      <th>Oxygen_respiration</th>\n",
       "      <th>Oxygen_evolution_gross</th>\n",
       "      <th>Respiration_to_Photosynthesis</th>\n",
       "      <th>Carbon_respiration</th>\n",
       "      <th>Carbon_uptake</th>\n",
       "      <th>Carbon_uptake_net</th>\n",
       "      <th>C_Respiration_to_Photosynthesis</th>\n",
       "    </tr>\n",
       "  </thead>\n",
       "  <tbody>\n",
       "    <tr>\n",
       "      <th rowspan=\"5\" valign=\"top\">103116_LHCX_WT_0Hr_R1</th>\n",
       "      <th>0</th>\n",
       "      <td>0.0</td>\n",
       "      <td>-6.442513e-10</td>\n",
       "      <td>6.442513e-10</td>\n",
       "      <td>0.000000e+00</td>\n",
       "      <td>NaN</td>\n",
       "      <td>1.643707e-09</td>\n",
       "      <td>0.000000e+00</td>\n",
       "      <td>-1.643707e-09</td>\n",
       "      <td>NaN</td>\n",
       "    </tr>\n",
       "    <tr>\n",
       "      <th>1</th>\n",
       "      <td>20.0</td>\n",
       "      <td>1.157534e-09</td>\n",
       "      <td>4.214432e-10</td>\n",
       "      <td>1.578977e-09</td>\n",
       "      <td>0.266909</td>\n",
       "      <td>8.497027e-10</td>\n",
       "      <td>1.271196e-10</td>\n",
       "      <td>-7.225831e-10</td>\n",
       "      <td>6.684276</td>\n",
       "    </tr>\n",
       "    <tr>\n",
       "      <th>2</th>\n",
       "      <td>50.0</td>\n",
       "      <td>3.790291e-09</td>\n",
       "      <td>1.054282e-09</td>\n",
       "      <td>4.844572e-09</td>\n",
       "      <td>0.217621</td>\n",
       "      <td>4.467012e-10</td>\n",
       "      <td>1.588324e-09</td>\n",
       "      <td>1.141622e-09</td>\n",
       "      <td>0.281241</td>\n",
       "    </tr>\n",
       "    <tr>\n",
       "      <th>3</th>\n",
       "      <td>200.0</td>\n",
       "      <td>8.265140e-09</td>\n",
       "      <td>8.156848e-10</td>\n",
       "      <td>9.080825e-09</td>\n",
       "      <td>0.089825</td>\n",
       "      <td>4.800351e-10</td>\n",
       "      <td>5.066536e-09</td>\n",
       "      <td>4.586501e-09</td>\n",
       "      <td>0.094746</td>\n",
       "    </tr>\n",
       "    <tr>\n",
       "      <th>4</th>\n",
       "      <td>500.0</td>\n",
       "      <td>1.024876e-08</td>\n",
       "      <td>1.120293e-09</td>\n",
       "      <td>1.136905e-08</td>\n",
       "      <td>0.098539</td>\n",
       "      <td>1.180477e-09</td>\n",
       "      <td>5.705668e-09</td>\n",
       "      <td>4.525191e-09</td>\n",
       "      <td>0.206895</td>\n",
       "    </tr>\n",
       "  </tbody>\n",
       "</table>\n",
       "</div>"
      ],
      "text/plain": [
       "                         Light_level  Oxygen_evolution  Oxygen_respiration  \\\n",
       "103116_LHCX_WT_0Hr_R1 0          0.0     -6.442513e-10        6.442513e-10   \n",
       "                      1         20.0      1.157534e-09        4.214432e-10   \n",
       "                      2         50.0      3.790291e-09        1.054282e-09   \n",
       "                      3        200.0      8.265140e-09        8.156848e-10   \n",
       "                      4        500.0      1.024876e-08        1.120293e-09   \n",
       "\n",
       "                         Oxygen_evolution_gross  \\\n",
       "103116_LHCX_WT_0Hr_R1 0            0.000000e+00   \n",
       "                      1            1.578977e-09   \n",
       "                      2            4.844572e-09   \n",
       "                      3            9.080825e-09   \n",
       "                      4            1.136905e-08   \n",
       "\n",
       "                         Respiration_to_Photosynthesis  Carbon_respiration  \\\n",
       "103116_LHCX_WT_0Hr_R1 0                            NaN        1.643707e-09   \n",
       "                      1                       0.266909        8.497027e-10   \n",
       "                      2                       0.217621        4.467012e-10   \n",
       "                      3                       0.089825        4.800351e-10   \n",
       "                      4                       0.098539        1.180477e-09   \n",
       "\n",
       "                         Carbon_uptake  Carbon_uptake_net  \\\n",
       "103116_LHCX_WT_0Hr_R1 0   0.000000e+00      -1.643707e-09   \n",
       "                      1   1.271196e-10      -7.225831e-10   \n",
       "                      2   1.588324e-09       1.141622e-09   \n",
       "                      3   5.066536e-09       4.586501e-09   \n",
       "                      4   5.705668e-09       4.525191e-09   \n",
       "\n",
       "                         C_Respiration_to_Photosynthesis  \n",
       "103116_LHCX_WT_0Hr_R1 0                              NaN  \n",
       "                      1                         6.684276  \n",
       "                      2                         0.281241  \n",
       "                      3                         0.094746  \n",
       "                      4                         0.206895  "
      ]
     },
     "execution_count": 18,
     "metadata": {},
     "output_type": "execute_result"
    }
   ],
   "source": [
    "import seaborn as sns\n",
    "results.head()"
   ]
  },
  {
   "cell_type": "code",
   "execution_count": 20,
   "metadata": {
    "collapsed": false
   },
   "outputs": [
    {
     "data": {
      "text/plain": [
       "<matplotlib.axes._subplots.AxesSubplot at 0x1185839e8>"
      ]
     },
     "execution_count": 20,
     "metadata": {},
     "output_type": "execute_result"
    },
    {
     "data": {
      "image/png": "[encoded data removed]",
      "text/plain": [
       "<matplotlib.figure.Figure at 0x11a3ee7b8>"
      ]
     },
     "metadata": {},
     "output_type": "display_data"
    }
   ],
   "source": [
    "sns.regplot(x=results[\"Light_level\"], y=results[\"Oxygen_evolution\"])"
   ]
  },
  {
   "cell_type": "code",
   "execution_count": 21,
   "metadata": {
    "collapsed": true
   },
   "outputs": [],
   "source": [
    "def Platt(coef,E,P):\n",
    "\n",
    "    return coef[0]*(1-np.exp(-(coef[1]*E)/coef[0])) - P # *np.exp((-1*coef[2]*E)/coef[0]) - P\n",
    "\n",
    "def PvE_func(Light_level,P_data_ori):\n",
    "    # E_prim and E_prim_culture refers to the E' of the sample in pH-MIMS system and culture. The values are not used in this function\n",
    "    # Here they are simply transfferred to the data framework that will be referened in other functions\n",
    "    try:\n",
    "        scale_up = 10**int(-np.log10(np.median(P_data_ori)/100))\n",
    "    except ValueError:\n",
    "        scale_up = 10**10\n",
    "\n",
    "    # Check if the first data point is negative\n",
    "    offset = 0\n",
    "    if min(P_data_ori)<0:\n",
    "        offset = -1*min(P_data_ori)*scale_up\n",
    "        P_data = P_data_ori*scale_up + offset\n",
    "    else: P_data = P_data_ori*scale_up\n",
    "    G_alpha = stats.linregress(Light_level[0:4],P_data[0:4]).slope\n",
    "    G_alpha = 10**(-10) if (G_alpha < 0.0) else G_alpha\n",
    "    # G_beta = 0\n",
    "    G_Ps = max(P_data)\n",
    "    # The non-linear regression funciton in scipy does not work well on extremely small numbers, therefore must be scaled up\n",
    "    # Scale = -round(np.log10(G_alpha))\n",
    "    \n",
    "    coef_0 = np.array([G_Ps,G_alpha], dtype=float)\n",
    "    \n",
    "    # Start non-linear fitting\n",
    "    res_lsq = least_squares(Platt, coef_0, loss='soft_l1',  args=(Light_level, P_data)) \n",
    "    coef = res_lsq.x/scale_up\n",
    "    #Scale back\n",
    "\n",
    "    # The calculation of P shall be done outside this function\n",
    "    # E0 = pd.DataFrame(list(np.arange(0,max(Light_level)*1.01,max(Light_level)/100)))  \n",
    "    # Prod = Platt(coef[0:2],E0,offset/scale_up)\n",
    "    Ek = coef[0]/coef[1]\n",
    "   \n",
    "    # Pm = coef[0]*(coef[1]/(coef[1]+coef[2]))*((coef[2]/(coef[1]+coef[2]))**(coef[2]/coef[1]))\n",
    "    \n",
    "    return list(coef)+[Ek]+[offset/scale_up]"
   ]
  },
  {
   "cell_type": "code",
   "execution_count": null,
   "metadata": {
    "collapsed": true
   },
   "outputs": [],
   "source": []
  }
 ],
 "metadata": {
  "kernelspec": {
   "display_name": "Python [Root]",
   "language": "python",
   "name": "Python [Root]"
  },
  "language_info": {
   "codemirror_mode": {
    "name": "ipython",
    "version": 3
   },
   "file_extension": ".py",
   "mimetype": "text/x-python",
   "name": "python",
   "nbconvert_exporter": "python",
   "pygments_lexer": "ipython3",
   "version": "3.5.2"
  }
 },
 "nbformat": 4,
 "nbformat_minor": 0
}
